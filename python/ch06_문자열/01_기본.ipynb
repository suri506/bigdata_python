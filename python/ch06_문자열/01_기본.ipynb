{
 "metadata": {
  "language_info": {
   "codemirror_mode": {
    "name": "ipython",
    "version": 3
   },
   "file_extension": ".py",
   "mimetype": "text/x-python",
   "name": "python",
   "nbconvert_exporter": "python",
   "pygments_lexer": "ipython3",
   "version": "3.8.5"
  },
  "orig_nbformat": 2,
  "kernelspec": {
   "name": "python385jvsc74a57bd08c1eae21719a0790335dcb83aad72b63b602cfe5cdb2bda0f60bc11d4f154e4b",
   "display_name": "Python 3.8.5 64-bit ('base': conda)"
  }
 },
 "nbformat": 4,
 "nbformat_minor": 2,
 "cells": [
  {
   "source": [
    "# 6장. 문자열\n",
    "### 1. 문자열의 이해"
   ],
   "cell_type": "markdown",
   "metadata": {}
  },
  {
   "source": [
    "- 시퀀스 자료형"
   ],
   "cell_type": "markdown",
   "metadata": {}
  },
  {
   "cell_type": "code",
   "execution_count": 1,
   "metadata": {},
   "outputs": [
    {
     "output_type": "execute_result",
     "data": {
      "text/plain": [
       "5"
      ]
     },
     "metadata": {},
     "execution_count": 1
    }
   ],
   "source": [
    "string = 'hello'\n",
    "len(string)"
   ]
  },
  {
   "cell_type": "code",
   "execution_count": 2,
   "metadata": {},
   "outputs": [
    {
     "output_type": "execute_result",
     "data": {
      "text/plain": [
       "6"
      ]
     },
     "metadata": {},
     "execution_count": 2
    }
   ],
   "source": [
    "string = '안녕하세요?'\n",
    "len(string)"
   ]
  },
  {
   "cell_type": "code",
   "execution_count": 3,
   "metadata": {},
   "outputs": [
    {
     "output_type": "execute_result",
     "data": {
      "text/plain": [
       "('안녕', '하세요?')"
      ]
     },
     "metadata": {},
     "execution_count": 3
    }
   ],
   "source": [
    "string[:2], string[2:]"
   ]
  },
  {
   "cell_type": "code",
   "execution_count": 4,
   "metadata": {},
   "outputs": [
    {
     "output_type": "stream",
     "name": "stdout",
     "text": [
      "안녕안녕 하세요?하세요?\n"
     ]
    }
   ],
   "source": [
    "# * 연산자는 반복, + 연산자는 문자 연결\n",
    "first = string[:2]\n",
    "last = string[2:]\n",
    "print(first * 2 + \" \" + last*2)"
   ]
  },
  {
   "source": [
    "### - 문자열의 메쏘드(method)"
   ],
   "cell_type": "markdown",
   "metadata": {}
  },
  {
   "cell_type": "code",
   "execution_count": 5,
   "metadata": {},
   "outputs": [
    {
     "output_type": "execute_result",
     "data": {
      "text/plain": [
       "-1"
      ]
     },
     "metadata": {},
     "execution_count": 5
    }
   ],
   "source": [
    "text = 'A quick brown fox jump over the lazy dog.'\n",
    "text.lower() # 소문자 바꾸기\n",
    "text.upper() # 대문자 바꾸기\n",
    "text.title() # 구의 시작 부분을 대문자로 바꾸기\n",
    "text.capitalize() # 문장 맨 앞 대문자로 바꾸기\n",
    "text.lower().capitalize() # 문장을 소문자로 바꾸고, 맨 앞 글자만 대문자로 바꾸기 # Method Chaining\n",
    "text.count('x') # 문장에서 x라는 단어가 몇번 나오는 지 알려줌\n",
    "text.isdigit() # 텍스트가 숫자니? 물어보는 것\n",
    "'123'.isdigit() # 123이 숫자니? 물어보는 것\n",
    "text.startswith('A') # 텍스트가 A로 시작하고 있니? 대소문자 구분함\n",
    "text.endswith('dog.') # 텍스트가 dog로 끝나고 있니? 대소문자 구분함\n",
    "text.find('fox') # fox가 몇번째에 있는지 물어보는 것 #인덱싱이랑 다른건가? 좀 더 공부해볼 것\n",
    "text.find('wolf') # 문장에 없는 내용을 넣으면 결과값을 -1로 출력한다. -1은 없음을 의미한다."
   ]
  },
  {
   "cell_type": "code",
   "execution_count": 6,
   "metadata": {},
   "outputs": [
    {
     "output_type": "execute_result",
     "data": {
      "text/plain": [
       "'   white'"
      ]
     },
     "metadata": {},
     "execution_count": 6
    }
   ],
   "source": [
    "'   white  '.strip() # 문자열의 양 쪽 공백을 지워준다\n",
    "'   white  '.lstrip() # 문자열의 왼쪽 공백을 지워준다\n",
    "'   white  '.rstrip() # 문자열의 오른쪽 공백을 지워준다"
   ]
  },
  {
   "cell_type": "code",
   "execution_count": 7,
   "metadata": {},
   "outputs": [
    {
     "output_type": "execute_result",
     "data": {
      "text/plain": [
       "['A', 'quick', 'brown', 'fox', 'jump', 'over', 'the', 'lazy', 'dog.']"
      ]
     },
     "metadata": {},
     "execution_count": 7
    }
   ],
   "source": [
    "new_text = ' ' + text + ' '\n",
    "new_text.split()        #앞 뒤에 공백이 있어도 split을 하니까 띄어쓰기 별로 단어가 구분된다."
   ]
  },
  {
   "source": [
    "- 여러줄의 문자열"
   ],
   "cell_type": "markdown",
   "metadata": {}
  },
  {
   "cell_type": "code",
   "execution_count": 8,
   "metadata": {},
   "outputs": [
    {
     "output_type": "stream",
     "name": "stdout",
     "text": [
      "\nA quick browun fox jumps over the lazy dog.\n나는 민족중흥의 역사정 사명을 띠고 이땅에 태어났다.\n\n"
     ]
    }
   ],
   "source": [
    "multi_line = \"\"\"\n",
    "A quick browun fox jumps over the lazy dog.\n",
    "나는 민족중흥의 역사정 사명을 띠고 이땅에 태어났다.\n",
    "\"\"\"\n",
    "print(multi_line)"
   ]
  },
  {
   "cell_type": "code",
   "execution_count": 9,
   "metadata": {},
   "outputs": [
    {
     "output_type": "execute_result",
     "data": {
      "text/plain": [
       "\"first = string[:2]\\nlast = string[2:]\\nprint(first*2 + ' ' + last*2) \""
      ]
     },
     "metadata": {},
     "execution_count": 9
    }
   ],
   "source": [
    "### 블락커맨드 처리\n",
    "\"\"\"first = string[:2]\n",
    "last = string[2:]\n",
    "print(first*2 + ' ' + last*2) \"\"\""
   ]
  },
  {
   "cell_type": "code",
   "execution_count": 10,
   "metadata": {},
   "outputs": [],
   "source": [
    "def sample(x, y):\n",
    "    \"\"\" 함수의 사용법은 이 자리에 넣는다.\n",
    "    \"\"\"\n",
    "\n",
    "    return x * y"
   ]
  },
  {
   "cell_type": "code",
   "execution_count": 12,
   "metadata": {},
   "outputs": [
    {
     "output_type": "error",
     "ename": "TypeError",
     "evalue": "sample() missing 2 required positional arguments: 'x' and 'y'",
     "traceback": [
      "\u001b[1;31m---------------------------------------------------------------------------\u001b[0m",
      "\u001b[1;31mTypeError\u001b[0m                                 Traceback (most recent call last)",
      "\u001b[1;32m<ipython-input-12-6f614e1d4e6c>\u001b[0m in \u001b[0;36m<module>\u001b[1;34m\u001b[0m\n\u001b[1;32m----> 1\u001b[1;33m \u001b[0msample\u001b[0m\u001b[1;33m(\u001b[0m\u001b[1;33m)\u001b[0m\u001b[1;33m\u001b[0m\u001b[1;33m\u001b[0m\u001b[0m\n\u001b[0m",
      "\u001b[1;31mTypeError\u001b[0m: sample() missing 2 required positional arguments: 'x' and 'y'"
     ]
    }
   ],
   "source": [
    "sample() # 마우스를 갖다 대면 함수의 사용법이 나온다."
   ]
  }
 ]
}