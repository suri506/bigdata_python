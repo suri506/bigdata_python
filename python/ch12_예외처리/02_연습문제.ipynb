{
 "metadata": {
  "language_info": {
   "codemirror_mode": {
    "name": "ipython",
    "version": 3
   },
   "file_extension": ".py",
   "mimetype": "text/x-python",
   "name": "python",
   "nbconvert_exporter": "python",
   "pygments_lexer": "ipython3",
   "version": "3.8.5"
  },
  "orig_nbformat": 2,
  "kernelspec": {
   "name": "python385jvsc74a57bd08c1eae21719a0790335dcb83aad72b63b602cfe5cdb2bda0f60bc11d4f154e4b",
   "display_name": "Python 3.8.5 64-bit ('base': conda)"
  }
 },
 "nbformat": 4,
 "nbformat_minor": 2,
 "cells": [
  {
   "cell_type": "code",
   "execution_count": 7,
   "metadata": {},
   "outputs": [
    {
     "output_type": "execute_result",
     "data": {
      "text/plain": [
       "[[0, 0, 0, 0, 0, 0, 0, 0, 0, 0],\n",
       " [1, 0, 1, 1, 1, 0, 0, 0, 0, 0],\n",
       " [1, 0, 0, 0, 0, 0, 0, 1, 0, 0],\n",
       " [0, 1, 1, 0, 1, 1, 1, 0, 0, 0],\n",
       " [0, 1, 0, 0, 1, 0, 0, 1, 0, 0],\n",
       " [0, 1, 0, 1, 0, 1, 0, 0, 0, 0],\n",
       " [0, 1, 0, 1, 1, 0, 0, 1, 1, 0],\n",
       " [1, 1, 0, 1, 1, 0, 0, 0, 0, 0],\n",
       " [1, 0, 1, 1, 1, 0, 1, 0, 1, 0],\n",
       " [0, 1, 1, 0, 0, 0, 0, 0, 0, 0]]"
      ]
     },
     "metadata": {},
     "execution_count": 7
    }
   ],
   "source": [
    "a, b = map(int, input().split())\n",
    "import random\n",
    "\n",
    "[[0 if random.random() < 0.7 else 1 for _ in range(a)]  for _ in range(b)]"
   ]
  },
  {
   "cell_type": "code",
   "execution_count": 1,
   "metadata": {},
   "outputs": [
    {
     "output_type": "stream",
     "name": "stdout",
     "text": [
      "\n"
     ]
    }
   ],
   "source": [
    "row, col = map(int, input().split())\n",
    "matrix = []\n",
    "for i in range(row):\n",
    "    matrix.append(list(input()))\n",
    "print()"
   ]
  },
  {
   "cell_type": "code",
   "execution_count": 15,
   "metadata": {},
   "outputs": [
    {
     "output_type": "stream",
     "name": "stdout",
     "text": [
      "j: 0 j: 1 j: 2 j: 3 j: 4 \n\nj: 0 j: 1 j: 2 j: 3 j: 4 \n\nj: 0 j: 1 j: 2 j: 3 j: 4 \n\nj: 0 j: 1 j: 2 j: 3 j: 4 \n\nj: 0 j: 1 j: 2 j: 3 j: 4 \n\n"
     ]
    }
   ],
   "source": [
    "for i in range(5):\n",
    "    for j in range(5):\n",
    "        print(f'j: {j}', end=' ')\n",
    "    print('\\n')"
   ]
  }
 ]
}