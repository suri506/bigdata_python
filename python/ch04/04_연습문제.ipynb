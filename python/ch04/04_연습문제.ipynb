{
 "metadata": {
  "language_info": {
   "codemirror_mode": {
    "name": "ipython",
    "version": 3
   },
   "file_extension": ".py",
   "mimetype": "text/x-python",
   "name": "python",
   "nbconvert_exporter": "python",
   "pygments_lexer": "ipython3",
   "version": "3.8.5"
  },
  "orig_nbformat": 2,
  "kernelspec": {
   "name": "python385jvsc74a57bd08c1eae21719a0790335dcb83aad72b63b602cfe5cdb2bda0f60bc11d4f154e4b",
   "display_name": "Python 3.8.5 64-bit ('base': conda)"
  }
 },
 "nbformat": 4,
 "nbformat_minor": 2,
 "cells": [
  {
   "source": [
    "# 1-1번\n",
    "### 연도를 입력으로 받아 윤년인지 아닌지를 출력하는 프로그램을 작성하시오.\n",
    "윤년은 연도가 4의 배수이면서, 100의 배수가 아닐 때 또는 400의 배수일 때이다. \n",
    "예를들어, 2012년은 4의 배수라서 윤년이지만, 1900년은 4의 배수이지만, 100의 배수이기 때문에 윤년이 아니다. 하지만, 2000년은 400의 배수이기 때문에 윤년이다.\n"
   ],
   "cell_type": "markdown",
   "metadata": {}
  },
  {
   "cell_type": "code",
   "execution_count": 21,
   "metadata": {
    "tags": []
   },
   "outputs": [
    {
     "output_type": "stream",
     "name": "stdout",
     "text": [
      "2000년은 윤년이다\n"
     ]
    }
   ],
   "source": [
    "year = int(input('연도를 입력하세요'))\n",
    "if year % 400 == 0: print(f'{year}년은 윤년이다')\n",
    "elif year % 100 == 0: print(f'{year}년은 윤년이 아니다')\n",
    "elif year % 4 == 0: print(f'{year}년은 윤년이다')\n",
    "else: print(f'{year}년은 윤년이 아니다')\n"
   ]
  },
  {
   "source": [
    "# 1-2번\n",
    "### 본인의 생일을 1998 12 15 과 같이 년 월 일로 입력받아 오늘 날짜의 만 나이를 구하는 프로그램을 작성하시오."
   ],
   "cell_type": "markdown",
   "metadata": {}
  },
  {
   "cell_type": "code",
   "execution_count": 72,
   "metadata": {},
   "outputs": [
    {
     "output_type": "stream",
     "name": "stdout",
     "text": [
      "당신의 만 나이는 30 세 입니다\n"
     ]
    }
   ],
   "source": [
    "birth = input('yyyy-mm-dd 형식으로 본인의 생일을 적어주세요')\n",
    "year = int(birth[:4])\n",
    "month = int(birth[5:7])\n",
    "day = int(birth[8:])\n",
    "\n",
    "today = date.today()\n",
    "age = today.year - year\n",
    "if month > today.month:\n",
    "    age -= 1\n",
    "elif month == today.month:\n",
    "    if day > today.day:\n",
    "        age -= 1\n",
    "print('당신의 만 나이는' , age, '세 입니다')"
   ]
  },
  {
   "source": [
    "# 1-3번\n",
    "### 세 자연수 a, b, c 가 피타고라스 정리 a^2 + b^2 = c^2 를 만족하면 피타고라스 수라고 부른다. (여기서 a < b < c 이고 a + b > c) 예를 들면, 3^2 + 4^2 = 9 + 16 = 25 = 5^2 이므로 3, 4, 5는 피타고라스 수입니다. a + b + c = 1000 인 피타고라스 수를 구하시오. (답은 한가지 뿐이다.)\n"
   ],
   "cell_type": "markdown",
   "metadata": {}
  },
  {
   "cell_type": "code",
   "execution_count": 77,
   "metadata": {},
   "outputs": [
    {
     "output_type": "stream",
     "name": "stdout",
     "text": [
      "200 375 425\n"
     ]
    }
   ],
   "source": [
    "for a in range(1, 333):\n",
    "    for b in range(a+1, 500):\n",
    "        c = 1000 - a - b\n",
    "        if a*a + b*b == c*c and a<b<c:\n",
    "            print(a, b, c)\n"
   ]
  },
  {
   "source": [
    "# 2-1번\n",
    "### (별 그리기)\n",
    "5이상 9이하의 홀수를 입력받아 다이아몬드 형태의 별을 출력하는 프로그램을 \u000b작성하시오.\n",
    "\t\t \n",
    "예) N=7\t\t   \n",
    "\t\t       *\n",
    "\t\t\t  ***\n",
    "\t\t\t *****\n",
    "\t\t\t*******\t\t\t \n",
    "\t\t\t *****\n",
    "\t\t\t  ***\n",
    "\t\t\t   *\n",
    "\n"
   ],
   "cell_type": "markdown",
   "metadata": {}
  },
  {
   "cell_type": "code",
   "execution_count": null,
   "metadata": {},
   "outputs": [],
   "source": [
    "for i in range(1, 6):\n",
    "    for k in range(i):\n",
    "        print('+', sep='',end='')\n",
    "    print()\n",
    "\n",
    "    for i in range(1, 6):\n",
    "    for k in range(1, i):   # blank 출력\n",
    "        print(' ', sep='', end='')\n",
    "    for k in range(5-i+1):   # 별표 출력\n",
    "        print(\"*\", sep='', end='')\n",
    "    print()\n"
   ]
  },
  {
   "cell_type": "code",
   "execution_count": 96,
   "metadata": {},
   "outputs": [
    {
     "output_type": "stream",
     "name": "stdout",
     "text": [
      "\n*\n***\n*****\n*******\n"
     ]
    }
   ],
   "source": [
    "n = 7\n",
    "for i in range(1, n+1):\n",
    "    for k in range(4-i, 1-i):\n",
    "       print(\" \", sep='', end='')\n",
    "    for k in range(1, i):\n",
    "        print(\"*\", sep=\"\", end=\"\")\n",
    "    print()\n",
    "   \n",
    "\n",
    "#for k in range(i):\n",
    "#  print(\"*\", sep='', end='')\n",
    "#print()\n",
    "    \n",
    "    \n",
    "# 블랭크는 \n",
    "    #i=1 이면 3\n",
    "    #i =2 이면 2\n",
    "    #i=3 이면 1\n",
    "    #i=4 이면 0\n",
    "\n",
    "# 별은 i = 1이면 1, i=2 이면 3, 1=3이면 5, i=4이면 7\n",
    "# 모르겠습니다! 너무 어려워요!"
   ]
  }
 ]
}