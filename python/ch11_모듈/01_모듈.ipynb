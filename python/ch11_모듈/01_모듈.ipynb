{
 "metadata": {
  "language_info": {
   "codemirror_mode": {
    "name": "ipython",
    "version": 3
   },
   "file_extension": ".py",
   "mimetype": "text/x-python",
   "name": "python",
   "nbconvert_exporter": "python",
   "pygments_lexer": "ipython3",
   "version": "3.8.5"
  },
  "orig_nbformat": 2,
  "kernelspec": {
   "name": "python385jvsc74a57bd08c1eae21719a0790335dcb83aad72b63b602cfe5cdb2bda0f60bc11d4f154e4b",
   "display_name": "Python 3.8.5 64-bit ('base': conda)"
  }
 },
 "nbformat": 4,
 "nbformat_minor": 2,
 "cells": [
  {
   "source": [
    "# 11장. 모듈과 패키지"
   ],
   "cell_type": "markdown",
   "metadata": {}
  },
  {
   "source": [
    "### -모듈 만들기"
   ],
   "cell_type": "markdown",
   "metadata": {}
  },
  {
   "cell_type": "code",
   "execution_count": 2,
   "metadata": {},
   "outputs": [],
   "source": [
    "def convert_c2f(celcius_value):\n",
    "    return celcius_value * 9. / 5 + 32 "
   ]
  },
  {
   "cell_type": "code",
   "execution_count": 8,
   "metadata": {},
   "outputs": [
    {
     "output_type": "stream",
     "name": "stdout",
     "text": [
      "섭씨 온도:50.0, 화씨 온도: 122.0\n"
     ]
    }
   ],
   "source": [
    "celcius = float(input('섭씨온도'))\n",
    "fahrenheit = convert_c2f(celcius)\n",
    "print(f'섭씨 온도:{celcius:.1f}, 화씨 온도: {fahrenheit:.1f}')"
   ]
  },
  {
   "cell_type": "code",
   "execution_count": null,
   "metadata": {},
   "outputs": [],
   "source": [
    "# as = alias, 축약명칭\n"
   ]
  }
 ]
}