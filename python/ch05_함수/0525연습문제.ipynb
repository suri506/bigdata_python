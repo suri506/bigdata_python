{
 "metadata": {
  "language_info": {
   "codemirror_mode": {
    "name": "ipython",
    "version": 3
   },
   "file_extension": ".py",
   "mimetype": "text/x-python",
   "name": "python",
   "nbconvert_exporter": "python",
   "pygments_lexer": "ipython3",
   "version": "3.8.5"
  },
  "orig_nbformat": 2,
  "kernelspec": {
   "name": "python385jvsc74a57bd08c1eae21719a0790335dcb83aad72b63b602cfe5cdb2bda0f60bc11d4f154e4b",
   "display_name": "Python 3.8.5 64-bit ('base': conda)"
  }
 },
 "nbformat": 4,
 "nbformat_minor": 2,
 "cells": [
  {
   "source": [
    "### 1. 세자리수 * 세자리 의 값 중 가장 큰 대칭수(palindrome)를 구하여라"
   ],
   "cell_type": "markdown",
   "metadata": {}
  },
  {
   "cell_type": "code",
   "execution_count": 20,
   "metadata": {},
   "outputs": [
    {
     "output_type": "stream",
     "name": "stdout",
     "text": [
      "906609\n"
     ]
    }
   ],
   "source": [
    "def pal(sum):\n",
    "    pal_sum = str(sum)\n",
    "    return pal_sum == pal_sum[::-1]\n",
    "\n",
    "list = []\n",
    "for a in range(100,1000):\n",
    "    for b in range(100,1000):\n",
    "        multi = a * b\n",
    "        if pal(multi) == True:\n",
    "            list.append(multi)\n",
    "print(max(list))"
   ]
  },
  {
   "source": [
    "### 2. 표준 입력으로 숫자 두 개가 입력됩니다. 다음 소스 코드를 완성하여 두 숫자의 덧셈, 뺄셈, 곱셈, 나눗셈의 결과가 출력되게 만드세요. 이때 나눗셈의 결과는 실수라야 합니다.\n",
    "\n",
    "x, y = map(int, input().split())\n",
    "\n",
    "________________\n",
    "________________\n",
    "\n",
    "a, s, m, d = calc(x, y)\n",
    "print('덧셈: {0}, 뺄셈: {1}, 곱셈: {2}, 나눗셈: {3}'.format(a, s, m, d))\n",
    "\n",
    "\n",
    "입력\n",
    "10 20\n",
    "\n",
    "결과\n",
    "덧셈: 30, 뺄셈: -10, 곱셈: 200, 나눗셈: 0.5\n",
    "\n",
    "입력\n",
    "40 8\n",
    "\n",
    "결과\n",
    "덧셈: 48, 뺄셈: 32, 곱셈: 320, 나눗셈: 5.0"
   ],
   "cell_type": "markdown",
   "metadata": {}
  },
  {
   "cell_type": "code",
   "execution_count": 26,
   "metadata": {},
   "outputs": [
    {
     "output_type": "error",
     "ename": "SyntaxError",
     "evalue": "invalid syntax (<ipython-input-26-e0a8980ed49e>, line 4)",
     "traceback": [
      "\u001b[1;36m  File \u001b[1;32m\"<ipython-input-26-e0a8980ed49e>\"\u001b[1;36m, line \u001b[1;32m4\u001b[0m\n\u001b[1;33m    return a = x+y, b=x=y, c=x*y, d=x/y\u001b[0m\n\u001b[1;37m             ^\u001b[0m\n\u001b[1;31mSyntaxError\u001b[0m\u001b[1;31m:\u001b[0m invalid syntax\n"
     ]
    }
   ],
   "source": [
    "x, y = map(int, input().split())\n",
    "a, s, m, d = calc(x, y)\n",
    "def calc(x, y):\n",
    "    return \n",
    "    print(f'덧셈: {a}, 뺄셈{b}, 곱셈{c}, 나눗셈{d}')\n"
   ]
  }
 ]
}