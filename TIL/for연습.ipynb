{
 "metadata": {
  "language_info": {
   "codemirror_mode": {
    "name": "ipython",
    "version": 3
   },
   "file_extension": ".py",
   "mimetype": "text/x-python",
   "name": "python",
   "nbconvert_exporter": "python",
   "pygments_lexer": "ipython3",
   "version": "3.8.10"
  },
  "orig_nbformat": 2,
  "kernelspec": {
   "name": "python3810jvsc74a57bd06f21b92fc860b6f52f97d6757ed51a61e43c2ac6d3be79ac5b61379616922c21",
   "display_name": "Python 3.8.10 64-bit ('python': conda)"
  }
 },
 "nbformat": 4,
 "nbformat_minor": 2,
 "cells": [
  {
   "cell_type": "code",
   "execution_count": 24,
   "metadata": {},
   "outputs": [
    {
     "output_type": "stream",
     "name": "stdout",
     "text": [
      "1~1000까지의 숫자를 입력하세요.\n"
     ]
    }
   ],
   "source": [
    "# n까지의 합 구하기\n",
    "\n",
    "N = int(input(\"1~1000까지의 숫자를 입력하세요\"))\n",
    "con = 0\n",
    "if 1 <= N <= 1000:\n",
    "    for sum in range(1, N+1):\n",
    "        con = con + sum\n",
    "    print(con)\n",
    "else: print(\"1~1000까지의 숫자를 입력하세요.\")\n"
   ]
  },
  {
   "cell_type": "code",
   "execution_count": null,
   "metadata": {},
   "outputs": [],
   "source": [
    "# n까지의 합 구하기\n",
    "# 적정 숫자 입력할 때까지 input 하기\n",
    "# for로 계속 돌려야하나? 다음 시간에 해봅시다.\n",
    "\n",
    "N = int(input(\"1~1000까지의 숫자를 입력하세요\"))\n",
    "con = 0\n",
    "if 1 <= N <= 1000:\n",
    "    for sum in range(1, N+1):\n",
    "        con = con + sum\n",
    "    print(con)\n",
    "else: print(\"1~1000까지의 숫자를 입력하세요.\")\n"
   ]
  },
  {
   "cell_type": "code",
   "execution_count": 6,
   "metadata": {},
   "outputs": [
    {
     "output_type": "stream",
     "name": "stdout",
     "text": [
      "1\n1\n2\n2\n3\n3\n"
     ]
    }
   ],
   "source": [
    "# 이중 for문 순서 이해하기\n",
    "\n",
    "n=int(input())\n",
    "\n",
    "for i in range(1, n+1):\n",
    "    for j in range(1, n):\n",
    "        print(i)"
   ]
  },
  {
   "cell_type": "code",
   "execution_count": 21,
   "metadata": {},
   "outputs": [
    {
     "output_type": "execute_result",
     "data": {
      "text/plain": [
       "datetime.date(2021, 5, 25)"
      ]
     },
     "metadata": {},
     "execution_count": 21
    }
   ],
   "source": [
    "from datetime import date\n",
    "date.today()\n"
   ]
  },
  {
   "cell_type": "code",
   "execution_count": 33,
   "metadata": {
    "tags": []
   },
   "outputs": [
    {
     "output_type": "stream",
     "name": "stdout",
     "text": [
      "200 375 425\n"
     ]
    },
    {
     "output_type": "error",
     "ename": "KeyboardInterrupt",
     "evalue": "",
     "traceback": [
      "\u001b[1;31m---------------------------------------------------------------------------\u001b[0m",
      "\u001b[1;31mKeyboardInterrupt\u001b[0m                         Traceback (most recent call last)",
      "\u001b[1;32m<ipython-input-33-370fc3c3f287>\u001b[0m in \u001b[0;36m<module>\u001b[1;34m\u001b[0m\n\u001b[0;32m      1\u001b[0m \u001b[1;32mfor\u001b[0m \u001b[0ma\u001b[0m \u001b[1;32min\u001b[0m \u001b[0mrange\u001b[0m\u001b[1;33m(\u001b[0m\u001b[1;36m1\u001b[0m\u001b[1;33m,\u001b[0m\u001b[1;36m100000\u001b[0m\u001b[1;33m)\u001b[0m\u001b[1;33m:\u001b[0m\u001b[1;33m\u001b[0m\u001b[1;33m\u001b[0m\u001b[0m\n\u001b[1;32m----> 2\u001b[1;33m     \u001b[1;32mfor\u001b[0m \u001b[0mb\u001b[0m \u001b[1;32min\u001b[0m \u001b[0mrange\u001b[0m\u001b[1;33m(\u001b[0m\u001b[0ma\u001b[0m\u001b[1;33m+\u001b[0m\u001b[1;36m1\u001b[0m\u001b[1;33m,\u001b[0m\u001b[1;36m100000\u001b[0m\u001b[1;33m)\u001b[0m\u001b[1;33m:\u001b[0m\u001b[1;33m\u001b[0m\u001b[1;33m\u001b[0m\u001b[0m\n\u001b[0m\u001b[0;32m      3\u001b[0m         \u001b[0mc\u001b[0m \u001b[1;33m=\u001b[0m \u001b[1;36m1000\u001b[0m \u001b[1;33m-\u001b[0m \u001b[0ma\u001b[0m \u001b[1;33m-\u001b[0m \u001b[0mb\u001b[0m\u001b[1;33m\u001b[0m\u001b[1;33m\u001b[0m\u001b[0m\n\u001b[0;32m      4\u001b[0m         \u001b[1;32mif\u001b[0m \u001b[0ma\u001b[0m\u001b[1;33m*\u001b[0m\u001b[0ma\u001b[0m \u001b[1;33m+\u001b[0m \u001b[0mb\u001b[0m\u001b[1;33m*\u001b[0m\u001b[0mb\u001b[0m \u001b[1;33m==\u001b[0m \u001b[0mc\u001b[0m\u001b[1;33m*\u001b[0m\u001b[0mc\u001b[0m \u001b[1;32mand\u001b[0m \u001b[0ma\u001b[0m\u001b[1;33m<\u001b[0m\u001b[0mb\u001b[0m\u001b[1;33m<\u001b[0m\u001b[0mc\u001b[0m\u001b[1;33m:\u001b[0m\u001b[1;33m\u001b[0m\u001b[1;33m\u001b[0m\u001b[0m\n\u001b[0;32m      5\u001b[0m             \u001b[0mprint\u001b[0m\u001b[1;33m(\u001b[0m\u001b[0ma\u001b[0m\u001b[1;33m,\u001b[0m \u001b[0mb\u001b[0m\u001b[1;33m,\u001b[0m \u001b[0mc\u001b[0m\u001b[1;33m)\u001b[0m\u001b[1;33m\u001b[0m\u001b[1;33m\u001b[0m\u001b[0m\n",
      "\u001b[1;31mKeyboardInterrupt\u001b[0m: "
     ]
    }
   ],
   "source": [
    "for a in range(1,100000):\n",
    "    for b in range(a+1,100000):\n",
    "        c = 1000 - a - b\n",
    "        if a*a + b*b == c*c and a<b<c:\n",
    "            print(a, b, c)"
   ]
  },
  {
   "cell_type": "code",
   "execution_count": 14,
   "metadata": {},
   "outputs": [
    {
     "output_type": "stream",
     "name": "stdout",
     "text": [
      "30\n"
     ]
    }
   ],
   "source": [
    "def add(a, b):\n",
    "    print(a + b)\n",
    "\n",
    "add(10, 20)\n",
    "\n"
   ]
  },
  {
   "cell_type": "code",
   "execution_count": 6,
   "metadata": {},
   "outputs": [
    {
     "output_type": "stream",
     "name": "stdout",
     "text": [
      "30\n이 함수는 a와 b를 더한 뒤 결과를 반환하는 함수입니다.\n"
     ]
    }
   ],
   "source": [
    "def add(a, b):\n",
    "    \"\"\"이 함수는 a와 b를 더한 뒤 결과를 반환하는 함수입니다.\"\"\" #\"\"\" \"\"\" 독스트링: 함수 설명 추가\n",
    "    return a + b\n",
    "\n",
    "add(10, 20)\n",
    "x = add(10, 20)\n",
    "print(x)\n",
    "print(add.__doc__) #독스트링출력 __doc__"
   ]
  },
  {
   "cell_type": "code",
   "execution_count": 7,
   "metadata": {},
   "outputs": [
    {
     "output_type": "stream",
     "name": "stdout",
     "text": [
      "Help on function add in module __main__:\n\nadd(a, b)\n    이 함수는 a와 b를 더한 뒤 결과를 반환하는 함수입니다.\n\n"
     ]
    }
   ],
   "source": [
    "help(add)"
   ]
  },
  {
   "cell_type": "code",
   "execution_count": 20,
   "metadata": {},
   "outputs": [
    {
     "output_type": "execute_result",
     "data": {
      "text/plain": [
       "13"
      ]
     },
     "metadata": {},
     "execution_count": 20
    }
   ],
   "source": [
    "def add(a, b):\n",
    "    return a + b\n",
    "\n",
    "x = add(10, 3)\n",
    "x\n",
    "\n"
   ]
  },
  {
   "cell_type": "code",
   "execution_count": 21,
   "metadata": {},
   "outputs": [
    {
     "output_type": "execute_result",
     "data": {
      "text/plain": [
       "1"
      ]
     },
     "metadata": {},
     "execution_count": 21
    }
   ],
   "source": [
    "def one():\n",
    "    return 1\n",
    "x = one()\n",
    "x"
   ]
  },
  {
   "cell_type": "code",
   "execution_count": 25,
   "metadata": {},
   "outputs": [
    {
     "output_type": "stream",
     "name": "stdout",
     "text": [
      "11 입니다.\nnot_ten\n"
     ]
    }
   ],
   "source": [
    "def not_ten(a):\n",
    "    if a == 10:\n",
    "        return print('not_ten')\n",
    "    print(f'{a} 입니다.')\n",
    "not_ten(11)\n",
    "not_ten(10)"
   ]
  },
  {
   "cell_type": "code",
   "execution_count": 30,
   "metadata": {},
   "outputs": [
    {
     "output_type": "execute_result",
     "data": {
      "text/plain": [
       "(11, -5)"
      ]
     },
     "metadata": {},
     "execution_count": 30
    }
   ],
   "source": [
    "def sub(a, b):\n",
    "    return a+b, a-b\n",
    "\n",
    "x, y = sub(3, 8)\n",
    "x, y\n"
   ]
  },
  {
   "cell_type": "code",
   "execution_count": 32,
   "metadata": {},
   "outputs": [
    {
     "output_type": "execute_result",
     "data": {
      "text/plain": [
       "(1, 2)"
      ]
     },
     "metadata": {},
     "execution_count": 32
    }
   ],
   "source": [
    "def one_two():\n",
    "    return (1, 2)\n",
    "x = one_two()\n",
    "x"
   ]
  },
  {
   "cell_type": "code",
   "execution_count": 33,
   "metadata": {},
   "outputs": [
    {
     "output_type": "execute_result",
     "data": {
      "text/plain": [
       "(1, 2)"
      ]
     },
     "metadata": {},
     "execution_count": 33
    }
   ],
   "source": [
    "def one_two():\n",
    "    return 1, 2\n",
    "x = one_two()\n",
    "x"
   ]
  },
  {
   "cell_type": "code",
   "execution_count": 34,
   "metadata": {},
   "outputs": [
    {
     "output_type": "stream",
     "name": "stdout",
     "text": [
      "22\n120\n"
     ]
    }
   ],
   "source": [
    "def mul(a,b):\n",
    "    m = a * b\n",
    "    return m\n",
    "def add(a,b):\n",
    "    c = a + b\n",
    "    print(c)\n",
    "    d = mul(a,b)\n",
    "    print(d)\n",
    "x, y = 10, 12\n",
    "add(x,y)\n"
   ]
  },
  {
   "cell_type": "code",
   "execution_count": 38,
   "metadata": {},
   "outputs": [
    {
     "output_type": "execute_result",
     "data": {
      "text/plain": [
       "(1, 2, 3)"
      ]
     },
     "metadata": {},
     "execution_count": 38
    }
   ],
   "source": [
    "def three():\n",
    "    return(1,2,3)\n",
    "three()"
   ]
  },
  {
   "cell_type": "code",
   "execution_count": 46,
   "metadata": {},
   "outputs": [
    {
     "output_type": "stream",
     "name": "stdout",
     "text": [
      "몫: 3, 나머지: 1\n"
     ]
    }
   ],
   "source": [
    "def dd(a,b):\n",
    "    return a // b, a % b\n",
    "x, y = dd(10,3)\n",
    "print(f'몫: {x}, 나머지: {y}')"
   ]
  },
  {
   "cell_type": "code",
   "execution_count": 51,
   "metadata": {},
   "outputs": [
    {
     "output_type": "stream",
     "name": "stdout",
     "text": [
      "덧셈:30, 뺄셈:-10, 곱셈:200, 나눗셈:0.5\n"
     ]
    }
   ],
   "source": [
    "x, y = map(int, input().split())\n",
    "\n",
    "def clac(x,y):\n",
    "    return x+y, x-y, x*y, x/y\n",
    "\n",
    "a, s, m, d = clac(x,y)\n",
    "print(f'덧셈:{a}, 뺄셈:{s}, 곱셈:{m}, 나눗셈:{d}')"
   ]
  },
  {
   "cell_type": "code",
   "execution_count": 58,
   "metadata": {},
   "outputs": [
    {
     "output_type": "stream",
     "name": "stdout",
     "text": [
      "10\n20\n30\n"
     ]
    }
   ],
   "source": [
    "def print_numbers(a,b,c):\n",
    "    print(a)\n",
    "    print(b)\n",
    "    print(c)\n",
    "\n",
    "x = (10, 20, 30)\n",
    "print_numbers(*x)"
   ]
  },
  {
   "cell_type": "code",
   "execution_count": 65,
   "metadata": {},
   "outputs": [
    {
     "output_type": "stream",
     "name": "stdout",
     "text": [
      "10\n20\n30\n40\n50\n(10, 20, 30, 40, 50)\n"
     ]
    }
   ],
   "source": [
    "def aa(*x):\n",
    "    for i in x:\n",
    "        print(i)\n",
    "\n",
    "x = (10, 20, 30, 40, 50)\n",
    "aa(*x)\n",
    "aa(x)\n"
   ]
  },
  {
   "cell_type": "code",
   "execution_count": 70,
   "metadata": {},
   "outputs": [
    {
     "output_type": "stream",
     "name": "stdout",
     "text": [
      "1\n()\n--------\n1\n(10, 20, 30, 40, 50)\n--------\n1\n(2, 3, 4, 5, 6, 7, 8, 9, 10)\n"
     ]
    }
   ],
   "source": [
    "def aa(x, *y):\n",
    "    print(x)\n",
    "    print(y)\n",
    "\n",
    "aa(1)\n",
    "print('--------')\n",
    "aa(1, 10, 20, 30, 40, 50)\n",
    "print('--------')\n",
    "aa(*[1,2,3,4,5,6,7,8,9,10])"
   ]
  },
  {
   "cell_type": "code",
   "execution_count": 76,
   "metadata": {},
   "outputs": [
    {
     "output_type": "stream",
     "name": "stdout",
     "text": [
      "이름 : 이성수\n나이 : 30\n주소 : 서울\n"
     ]
    }
   ],
   "source": [
    "def info(name, age, address):\n",
    "    print(f'이름 : {name}')\n",
    "    print(f'나이 : {age}')\n",
    "    print(f'주소 : {address}')\n",
    "\n",
    "info('이성수', 30, '서울')"
   ]
  },
  {
   "cell_type": "code",
   "execution_count": 77,
   "metadata": {},
   "outputs": [
    {
     "output_type": "stream",
     "name": "stdout",
     "text": [
      "이름 : 이성수\n나이 : 30\n주소 : 서울\n"
     ]
    }
   ],
   "source": [
    "info(age=30, name='이성수', address='서울')"
   ]
  },
  {
   "cell_type": "code",
   "execution_count": 85,
   "metadata": {},
   "outputs": [
    {
     "output_type": "stream",
     "name": "stdout",
     "text": [
      "이름 :  이성수\n나이 :  30\n주소 :  서울\n"
     ]
    }
   ],
   "source": [
    "def info(name, age, address):\n",
    "    print('이름 : ', name)\n",
    "    print('나이 : ', age)\n",
    "    print('주소 : ', address)\n",
    "x = {'name' : '이성수', 'age' : 30, 'address' : '서울'}\n",
    "info(**x)\n"
   ]
  }
 ]
}