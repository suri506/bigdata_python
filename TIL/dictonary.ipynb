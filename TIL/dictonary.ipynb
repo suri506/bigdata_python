{
 "metadata": {
  "language_info": {
   "codemirror_mode": {
    "name": "ipython",
    "version": 3
   },
   "file_extension": ".py",
   "mimetype": "text/x-python",
   "name": "python",
   "nbconvert_exporter": "python",
   "pygments_lexer": "ipython3",
   "version": "3.8.10"
  },
  "orig_nbformat": 2,
  "kernelspec": {
   "name": "python3810jvsc74a57bd06f21b92fc860b6f52f97d6757ed51a61e43c2ac6d3be79ac5b61379616922c21",
   "display_name": "Python 3.8.10 64-bit ('python': conda)"
  }
 },
 "nbformat": 4,
 "nbformat_minor": 2,
 "cells": [
  {
   "cell_type": "code",
   "execution_count": 1,
   "metadata": {},
   "outputs": [
    {
     "output_type": "stream",
     "name": "stdout",
     "text": [
      "dict_keys([1, 2, 3])\n"
     ]
    }
   ],
   "source": [
    "a = {1:'파랑구름', 2:'성수성수', 3:'힘내힘내'}\n",
    "print(a.keys())"
   ]
  }
 ]
}